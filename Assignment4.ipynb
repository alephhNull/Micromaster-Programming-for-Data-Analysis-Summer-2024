{
  "cells": [
    {
      "cell_type": "markdown",
      "metadata": {},
      "source": [
        "<html lang=\"en\">\n",
        "<head>\n",
        "<meta charset=\"UTF-8\">\n",
        "<meta name=\"viewport\" content=\"width=device-width, initial-scale=1.0\">\n",
        "</head>\n",
        "<body>\n",
        "\n",
        "<div style=\"text-align: center;\">\n",
        "<font face=\"Times New Roman\" size=5>\n",
        "<div>In the name of LORD</div>\n",
        "<br>\n",
        "    <img src=\"./micromaster.png\" width=170 alt=\"micromaster_logo\">\n",
        "    <br>\n",
        "<div dir=ltr align=center>\n",
        "<font size=6>\n",
        "    <b>Sharif Micromaster</b>\n",
        "     <br>\n",
        "<font  size=6>\n",
        "   Programming For Data Analysis\n",
        "  <br>\n",
        "<font size=5>\n",
        "    Assignment 4: Introduction to Matplotlib, Seaborn, Plotly \n",
        "</div>\n",
        "</body>\n",
        "</html>\n",
        "<hr>"
      ]
    },
    {
      "cell_type": "markdown",
      "metadata": {},
      "source": [
        "**Name:**\n",
        "\n",
        "**Number:**"
      ]
    },
    {
      "cell_type": "markdown",
      "metadata": {},
      "source": [
        "## Notebook Content\n",
        "0. [Introduction](##Introduction)\n",
        "1. [Importing libraries](##importing-libraries)\n",
        "2. [Dataset Insight](##dataset-insight)\n",
        "3. [Matplotlib](##matplotlib)\n",
        "4. [Seaborn](##seaborn)\n",
        "5. [Plotly](##plotly)"
      ]
    },
    {
      "cell_type": "markdown",
      "metadata": {},
      "source": [
        "## Introduction\n",
        "'Veda' is a Sanskrit word meaning knowledge, and words like video, visualization are derived from it. We gain knowledge about things by observing them, and one way to understand our data is to visualize it.\n",
        "\n",
        "\n",
        "In this notebook, we aim to learn the fundamentals of data visualization using Python's most popular graphing libraries. We will explore different types of charts and their use cases. We will also learn how to work with the tools provided and how to adapt them to meet our own need\n",
        "\n",
        "\n",
        "Feel free to ask if you have any questions: [Telegram](https://t.me/alephhNull). "
      ]
    },
    {
      "cell_type": "markdown",
      "metadata": {
        "id": "N1njtiEg4rSB"
      },
      "source": [
        "## Importing libraries\n",
        "First of all import the following libraries (Make sure you have already downloaded them)\n"
      ]
    },
    {
      "cell_type": "code",
      "execution_count": 2,
      "metadata": {
        "id": "okLoFLah4rSE"
      },
      "outputs": [],
      "source": [
        "import pandas as pd\n",
        "import numpy as np\n",
        "import matplotlib.pyplot as plt\n",
        "import seaborn as sns\n",
        "import plotly.express as px"
      ]
    },
    {
      "cell_type": "markdown",
      "metadata": {
        "id": "bM4Qg9JR4rSG"
      },
      "source": [
        "## Dataset Insight\n",
        "\n",
        "Load the `cardio.csv` file as a Pandas DataFrame and display the top 5 rows."
      ]
    },
    {
      "cell_type": "code",
      "execution_count": 1,
      "metadata": {
        "colab": {
          "base_uri": "https://localhost:8080/",
          "height": 206
        },
        "id": "xD6uyjA74rSG",
        "outputId": "f02e8521-d651-4a14-bd24-78645f9a906c"
      },
      "outputs": [],
      "source": [
        "# Write your code here"
      ]
    },
    {
      "cell_type": "markdown",
      "metadata": {
        "id": "wUTtmHYn4rSH"
      },
      "source": [
        "Print the shape of the DataFrame and the names of the columns."
      ]
    },
    {
      "cell_type": "code",
      "execution_count": 2,
      "metadata": {
        "colab": {
          "base_uri": "https://localhost:8080/"
        },
        "id": "0Ld7lNxL4rSI",
        "outputId": "0faa1bbf-e436-4f9c-c8f2-27ea927a6502"
      },
      "outputs": [],
      "source": [
        "# Write your code here"
      ]
    },
    {
      "cell_type": "markdown",
      "metadata": {
        "id": "O_whGnrZ4rSI"
      },
      "source": [
        "The column `age` represents the age of the patients in days. Convert it to years."
      ]
    },
    {
      "cell_type": "code",
      "execution_count": 3,
      "metadata": {
        "id": "K0Trdp184rSJ"
      },
      "outputs": [],
      "source": [
        "# Write your code here"
      ]
    },
    {
      "cell_type": "markdown",
      "metadata": {
        "id": "LosUAWNv4rSJ"
      },
      "source": [
        "## Matplotlib\n",
        "Now, we will visually analyze our data using basic functions from Matplotlib.\n",
        "\n",
        "\n",
        "Ensure that you use appropriate names for labels and titles in your plots throughout the rest of the notebook to keep them meaningful and clear."
      ]
    },
    {
      "cell_type": "markdown",
      "metadata": {
        "id": "bfNOq6kOKpOX"
      },
      "source": [
        "### Question 1: Normal histograms\n",
        "First, plot the distribution of patients' heights using a Matplotlib histogram with 50 bins."
      ]
    },
    {
      "cell_type": "code",
      "execution_count": 4,
      "metadata": {
        "colab": {
          "base_uri": "https://localhost:8080/",
          "height": 430
        },
        "id": "dEHOxs274rSK",
        "outputId": "132efe45-1a76-458d-941e-cbbfc35ba77f"
      },
      "outputs": [],
      "source": [
        "# Write your code here"
      ]
    },
    {
      "cell_type": "markdown",
      "metadata": {
        "id": "WOD0lSe84rSL"
      },
      "source": [
        "### Question 2: Tall bar charts\n",
        "One way to ensure that a dataset is valid (and not just random numbers) is to use our own base knowledge about certain facts. For example, we know that people's heights follow a normal distribution, which we can also observe in the previous plot.\n",
        "\n",
        "\n",
        "Sometimes it's more convenient to use bar plots to show distributions. Now, plot the histogram from the previous question using Matplotlib's bar chart for heights in the range of 175 to 190 cm (tall patients)."
      ]
    },
    {
      "cell_type": "code",
      "execution_count": 5,
      "metadata": {
        "colab": {
          "base_uri": "https://localhost:8080/",
          "height": 447
        },
        "id": "KjzONyJE4rSL",
        "outputId": "115445ce-a021-4067-fba7-4c9f94f82b6c"
      },
      "outputs": [],
      "source": [
        "# Write your code here"
      ]
    },
    {
      "cell_type": "markdown",
      "metadata": {
        "id": "qILF84sd4rSL"
      },
      "source": [
        "### Question 3: Cumbersome Stacking\n",
        "\n",
        "We also know that men are usually taller than women. Therefore, taller patients should consist of more men than women. Show the previous plot so that each bar displays the composition of men and women (gender 1 is for women and 2 is for men), and use a legend to indicate them.\n",
        "\n",
        "**Hint:** Look up stacking bar charts in Matplotlib."
      ]
    },
    {
      "cell_type": "code",
      "execution_count": 6,
      "metadata": {
        "colab": {
          "base_uri": "https://localhost:8080/",
          "height": 430
        },
        "id": "aBvbK8RH4rSL",
        "outputId": "8a6ba716-af27-4832-9b01-fd4bd9dfb818"
      },
      "outputs": [],
      "source": [
        "# Write your code here"
      ]
    },
    {
      "cell_type": "markdown",
      "metadata": {
        "id": "RTchYSYg4rSM"
      },
      "source": [
        "### Question 4: Boxy plots\n",
        "Another method to show how numeric data is distributed, its spread, and skewness is to use box plots. Box plots also help to detect outliers—data points that are significantly different from other observations.\n",
        "\n",
        "Plot the box plots for the weights of the two groups of people: one for those diagnosed with cardiovascular disease (cardio = 1) and one for those not diagnosed with the disease (cardio = 0)."
      ]
    },
    {
      "cell_type": "code",
      "execution_count": 7,
      "metadata": {
        "colab": {
          "base_uri": "https://localhost:8080/",
          "height": 430
        },
        "id": "MVvdBXQU4rSN",
        "outputId": "dd71e060-facb-4949-85ee-4fe77219e071"
      },
      "outputs": [],
      "source": [
        "# Write your code here"
      ]
    },
    {
      "cell_type": "markdown",
      "metadata": {
        "id": "qGlwANLA4rSN"
      },
      "source": [
        "### Question 5: Turkish inliers\n",
        "\n",
        "Delete the outliers using Turkey Method and draw the plots again.\n"
      ]
    },
    {
      "cell_type": "code",
      "execution_count": 8,
      "metadata": {
        "colab": {
          "base_uri": "https://localhost:8080/",
          "height": 430
        },
        "id": "nEh_SDsx4rSN",
        "outputId": "e180963c-2325-4d47-8df8-fe03928a7b59"
      },
      "outputs": [],
      "source": [
        "# Write your code here"
      ]
    },
    {
      "cell_type": "markdown",
      "metadata": {
        "id": "pfACi2SG4rSN"
      },
      "source": [
        "### Question 6: Violin concerto in E major\n",
        "\n",
        "Every chart has its own pros and cons and that is why there are a lot of charts, each used for a particular purpose.\n",
        "\n",
        "\n",
        "Boxplots just tell us about the spread of the values and do not convey information about the density of the data along different values and  variances. To overcome this issue, violion plots are introduced. Look at the picture below and note how two data have different distributions while having the same boxplots:\n",
        "\n",
        "<img src=\"./boxplots.jpg\" width=\"500\"/>\n",
        "\n",
        "Now add violion plots to the previous plots:"
      ]
    },
    {
      "cell_type": "code",
      "execution_count": 9,
      "metadata": {
        "colab": {
          "base_uri": "https://localhost:8080/",
          "height": 430
        },
        "id": "qKHcttj44rSO",
        "outputId": "af1b5992-ea9d-4d7c-d2c5-d906ba192ab4"
      },
      "outputs": [],
      "source": [
        "# Write your code here"
      ]
    },
    {
      "cell_type": "markdown",
      "metadata": {
        "id": "zpfX1Mp94rSO"
      },
      "source": [
        "### Question 7: Smoking Kills\n",
        "\n",
        "Create a pie chart for patients diagnosed with cardiovascular disease, showing the number of smokers and non-smokers. Use labels and the `autopct` parameter to indicate the percentage of each group. Also, use the `explode` option to offset the slice representing smoking patients."
      ]
    },
    {
      "cell_type": "code",
      "execution_count": 10,
      "metadata": {
        "colab": {
          "base_uri": "https://localhost:8080/",
          "height": 406
        },
        "id": "WKQlvEH54rSO",
        "outputId": "9395ed9e-f676-411b-d245-3c5505498ce5"
      },
      "outputs": [],
      "source": [
        "# Write your code here"
      ]
    },
    {
      "cell_type": "markdown",
      "metadata": {
        "id": "rkNXvJhQ4rSP"
      },
      "source": [
        "### Question 8: Multiple subplots\n",
        "\n",
        "Create subplots for different cholesterol levels of patients, and plot pie charts showing the number of patients diagnosed with cardiovascular disease versus healthy individuals in each subplot, side by side. Use titles to indicate cholesterol levels."
      ]
    },
    {
      "cell_type": "code",
      "execution_count": 11,
      "metadata": {
        "colab": {
          "base_uri": "https://localhost:8080/",
          "height": 205
        },
        "id": "7nYNHL714rSP",
        "outputId": "0d2c2c08-783f-4deb-b675-38a752d33b03"
      },
      "outputs": [],
      "source": [
        "# Write your code here"
      ]
    },
    {
      "cell_type": "markdown",
      "metadata": {
        "id": "U5lgwF884rSP"
      },
      "source": [
        "### Question 9: Bloody scatters\n",
        "\n",
        "Filter patients with diastolic (`ap_hi` column) and systolic (`ap_lo` column) blood pressures less than 200 and greater than 20. Then, draw a scatter plot of diastolic versus systolic blood pressures for these patients. Create a legend with unique colors for each **cholesterol** group.\n",
        "\n",
        "You can also experiment with other colormaps by providing the `cmap` parameter to the scatter function (e.g., plasma, inferno, magma, etc.)."
      ]
    },
    {
      "cell_type": "code",
      "execution_count": 12,
      "metadata": {
        "colab": {
          "base_uri": "https://localhost:8080/",
          "height": 430
        },
        "id": "uwLM65Au4rSP",
        "outputId": "0a01d927-4912-4492-ad6c-29e8a0a9361e"
      },
      "outputs": [],
      "source": [
        "# Write your code here"
      ]
    },
    {
      "cell_type": "markdown",
      "metadata": {
        "id": "_KuSDIKi4rSQ"
      },
      "source": [
        "\n",
        "### Question 10: Hot heatmaps\n",
        "One of the important steps in data analysis is to determine the relationship between different variables in the data (e.g., whether the height and weight of people are correlated and to what extent). To represent the correlation between variables, heatmaps are one of the most widely used graphic representations.\n",
        "\n",
        "\n",
        "Now, calculate the correlation between the variables (columns) of the dataset and represent it with a heatmap implemented in Matplotlib. Use proper annotations and labeling to show the amount of correlation between any pair of variables."
      ]
    },
    {
      "cell_type": "code",
      "execution_count": 13,
      "metadata": {},
      "outputs": [],
      "source": [
        "# Write your code here"
      ]
    },
    {
      "cell_type": "markdown",
      "metadata": {
        "id": "aVkrGZXu4rSQ"
      },
      "source": [
        "## Seaborn\n",
        "Seaborn is another widely used Python library for data visualization. It is built on top of Matplotlib and integrates closely with Pandas data structures. Seaborn provides a simple and aesthetically pleasing graphing API with minimal code.\n",
        "\n",
        "Use Seaborn for the next questions."
      ]
    },
    {
      "cell_type": "markdown",
      "metadata": {
        "id": "2tNWzM-u4rSQ"
      },
      "source": [
        "### Question 1: Smooth stacking\n",
        "Now, we are going to see how much Seaborn can make visualization easier for us compared to Matplotlib. We want to draw the same stacked bar chart for patients' heights from the previous section in one line of code!\n",
        "\n",
        "\n",
        "Plot the histogram for tall patients (175 ≤ height < 190) using the displot() function. Use the hue parameter with 'gender' to separate them.\n",
        "\n",
        "\n",
        "You can also try different palettes by providing the palette parameter with a value (e.g., \"flare,\" \"crest,\" \"magma,\" \"viridis,\" \"icefire,\" ...)."
      ]
    },
    {
      "cell_type": "code",
      "execution_count": 14,
      "metadata": {
        "colab": {
          "base_uri": "https://localhost:8080/",
          "height": 523
        },
        "id": "QRxP7pRa4rSR",
        "outputId": "9b784d48-8790-41c3-e076-41b60e6dcb82"
      },
      "outputs": [],
      "source": [
        "# Write your code here"
      ]
    },
    {
      "cell_type": "markdown",
      "metadata": {
        "id": "7T4a7YUv4rSR"
      },
      "source": [
        "### Question 2: Tidy boxing\n",
        "\n",
        "Plot the box plot of healthy and diseased patients' weights by providing the `x`, `y`, and `hue` parameters with appropriate values."
      ]
    },
    {
      "cell_type": "code",
      "execution_count": 15,
      "metadata": {
        "colab": {
          "base_uri": "https://localhost:8080/",
          "height": 466
        },
        "id": "yZ0_e6VO4rSR",
        "outputId": "b2fbab95-9b73-473b-8c8c-241f55989e06"
      },
      "outputs": [],
      "source": [
        "# Write your code here"
      ]
    },
    {
      "cell_type": "markdown",
      "metadata": {
        "id": "W2ntkfd24rSR"
      },
      "source": [
        "### Question 3: Cats & Plots\n",
        "\n",
        "Draw a horizontal count plot for patients diagnosed with cardiovascular disease, grouped by different cholesterol levels. Separate each group by glucose levels.\n",
        "\n",
        "**Hint:** Search for the `catplot` function in Seaborn."
      ]
    },
    {
      "cell_type": "code",
      "execution_count": 16,
      "metadata": {
        "colab": {
          "base_uri": "https://localhost:8080/",
          "height": 523
        },
        "id": "p32--lLy4rSR",
        "outputId": "7d81b031-546e-42fd-a611-8a713bbe54bb"
      },
      "outputs": [],
      "source": [
        "# Write your code here"
      ]
    },
    {
      "cell_type": "markdown",
      "metadata": {
        "id": "PMA_VxZ-4rSR"
      },
      "source": [
        "### Question 4: Cool heatmaps!\n",
        "\n",
        "Draw the heatmap of the correlations between the variables in the dataset using Seaborn. Provide annotations with 2 decimal places of accuracy."
      ]
    },
    {
      "cell_type": "code",
      "execution_count": 17,
      "metadata": {
        "colab": {
          "base_uri": "https://localhost:8080/",
          "height": 515
        },
        "id": "OAfgK74U4rSR",
        "outputId": "f04117e6-6650-439c-cb16-73a0592ce41a"
      },
      "outputs": [],
      "source": [
        "# Write your code here"
      ]
    },
    {
      "cell_type": "markdown",
      "metadata": {
        "id": "eJzbubVM9fGZ"
      },
      "source": [
        "## Plotly\n",
        "Plotly is another visualization library besides Matplotlib and Seaborn that offers highly interactive and dynamic visualizations, making it ideal for creating dashboards, animated charts, and complex plots with detailed hover information.\n",
        "\n",
        "\n",
        "Unlike Matplotlib and Seaborn, which are primarily static, Plotly allows users to zoom, pan, and hover over data points, providing a more engaging and intuitive experience, particularly for web-based applications.\n",
        "\n",
        "\n",
        "Now load `eccomerce_data.csv` as a pandas dataframe and show its top 7 rows."
      ]
    },
    {
      "cell_type": "code",
      "execution_count": 18,
      "metadata": {
        "colab": {
          "base_uri": "https://localhost:8080/",
          "height": 269
        },
        "id": "2rYfrAEJ-GaP",
        "outputId": "fc729c33-9e7b-4dad-9282-cf87f293bfa0"
      },
      "outputs": [],
      "source": [
        "# Write your code here"
      ]
    },
    {
      "cell_type": "markdown",
      "metadata": {
        "id": "Gqh63v5m-QAf"
      },
      "source": [
        "### Question 1: Bubble chart\n",
        "\n",
        "Create an interactive bubble chart to visualize the relationship between Time on Site (minutes) and Revenue. The size of the bubbles should represent the number of Pages Visited, and the color should indicate the Product Category. Add hover text to show Customer ID, Age, and Country."
      ]
    },
    {
      "cell_type": "code",
      "execution_count": 19,
      "metadata": {
        "colab": {
          "base_uri": "https://localhost:8080/",
          "height": 542
        },
        "id": "bnNBDNCE4rSR",
        "outputId": "f635bd47-d7eb-41ed-c9bd-4f01de076eae"
      },
      "outputs": [],
      "source": [
        "# Write your code here"
      ]
    },
    {
      "cell_type": "markdown",
      "metadata": {
        "id": "6JgdmZBHDJxi"
      },
      "source": [
        "### Question 2: Pie Chart of Revenue Distribution\n",
        "Create a pie chart to visualize the distribution of total Revenue across different Product Categories. Add hover text to display the percentage of total revenue and the actual revenue amount for each category."
      ]
    },
    {
      "cell_type": "code",
      "execution_count": 20,
      "metadata": {
        "colab": {
          "base_uri": "https://localhost:8080/",
          "height": 542
        },
        "id": "SonPpAedDz-C",
        "outputId": "53dceae4-b2f2-417c-97ab-df468117ed66"
      },
      "outputs": [],
      "source": [
        "# Write your code here"
      ]
    },
    {
      "cell_type": "markdown",
      "metadata": {
        "id": "pFiQ3IFEELMY"
      },
      "source": [
        "### Question 3: Charts with animations\n",
        "Create an animated bar chart to visualize the Revenue generated in each Product Category over time (Purchase Date). The bars should be grouped by Gender, and the animation should show the change in revenue on a daily basis. Add hover text to display Total Revenue for each category and gender."
      ]
    },
    {
      "cell_type": "code",
      "execution_count": 21,
      "metadata": {
        "colab": {
          "base_uri": "https://localhost:8080/",
          "height": 542
        },
        "id": "Zx3L-SGmE-jS",
        "outputId": "47c92d70-738b-49ba-a22f-f3bc381bc646"
      },
      "outputs": [],
      "source": [
        "# Write your code here"
      ]
    }
  ],
  "metadata": {
    "colab": {
      "provenance": [],
      "toc_visible": true
    },
    "kernelspec": {
      "display_name": "Python 3",
      "language": "python",
      "name": "python3"
    },
    "language_info": {
      "codemirror_mode": {
        "name": "ipython",
        "version": 3
      },
      "file_extension": ".py",
      "mimetype": "text/x-python",
      "name": "python",
      "nbconvert_exporter": "python",
      "pygments_lexer": "ipython3",
      "version": "3.12.5"
    }
  },
  "nbformat": 4,
  "nbformat_minor": 0
}
